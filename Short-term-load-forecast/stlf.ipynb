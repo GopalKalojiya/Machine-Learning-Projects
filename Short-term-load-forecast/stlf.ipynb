{
 "cells": [
  {
   "cell_type": "code",
   "execution_count": 1,
   "id": "ea497991",
   "metadata": {},
   "outputs": [],
   "source": [
    "import pandas as pd\n",
    "import numpy as np\n",
    "import matplotlib.pyplot as plt\n",
    "%matplotlib inline\n",
    "import pickle\n",
    "\n",
    "from sklearn.model_selection import train_test_split\n",
    "from sklearn import linear_model\n",
    "from sklearn.ensemble import BaggingClassifier\n",
    "from sklearn.neighbors import KNeighborsClassifier\n",
    "from sklearn.ensemble import RandomForestRegressor\n",
    "from sklearn.model_selection import RandomizedSearchCV, GridSearchCV\n",
    "from sklearn.metrics import precision_score, accuracy_score, recall_score, f1_score\n",
    "from sklearn.metrics import plot_roc_curve, mean_absolute_error, mean_squared_error\n",
    "from sklearn.metrics import confusion_matrix, classification_report\n"
   ]
  },
  {
   "cell_type": "code",
   "execution_count": 3,
   "id": "88285c2a",
   "metadata": {},
   "outputs": [
    {
     "data": {
      "text/html": [
       "<div>\n",
       "<style scoped>\n",
       "    .dataframe tbody tr th:only-of-type {\n",
       "        vertical-align: middle;\n",
       "    }\n",
       "\n",
       "    .dataframe tbody tr th {\n",
       "        vertical-align: top;\n",
       "    }\n",
       "\n",
       "    .dataframe thead th {\n",
       "        text-align: right;\n",
       "    }\n",
       "</style>\n",
       "<table border=\"1\" class=\"dataframe\">\n",
       "  <thead>\n",
       "    <tr style=\"text-align: right;\">\n",
       "      <th></th>\n",
       "      <th>date</th>\n",
       "      <th>year</th>\n",
       "      <th>month</th>\n",
       "      <th>day</th>\n",
       "      <th>weekday</th>\n",
       "      <th>hour</th>\n",
       "      <th>demand</th>\n",
       "      <th>temperature</th>\n",
       "    </tr>\n",
       "  </thead>\n",
       "  <tbody>\n",
       "    <tr>\n",
       "      <th>0</th>\n",
       "      <td>2003/3/1</td>\n",
       "      <td>2003</td>\n",
       "      <td>3</td>\n",
       "      <td>1</td>\n",
       "      <td>7</td>\n",
       "      <td>1</td>\n",
       "      <td>12863.0</td>\n",
       "      <td>23</td>\n",
       "    </tr>\n",
       "    <tr>\n",
       "      <th>1</th>\n",
       "      <td>2003/3/1</td>\n",
       "      <td>2003</td>\n",
       "      <td>3</td>\n",
       "      <td>1</td>\n",
       "      <td>7</td>\n",
       "      <td>2</td>\n",
       "      <td>12389.0</td>\n",
       "      <td>22</td>\n",
       "    </tr>\n",
       "    <tr>\n",
       "      <th>2</th>\n",
       "      <td>2003/3/1</td>\n",
       "      <td>2003</td>\n",
       "      <td>3</td>\n",
       "      <td>1</td>\n",
       "      <td>7</td>\n",
       "      <td>3</td>\n",
       "      <td>12155.0</td>\n",
       "      <td>21</td>\n",
       "    </tr>\n",
       "    <tr>\n",
       "      <th>3</th>\n",
       "      <td>2003/3/1</td>\n",
       "      <td>2003</td>\n",
       "      <td>3</td>\n",
       "      <td>1</td>\n",
       "      <td>7</td>\n",
       "      <td>4</td>\n",
       "      <td>12072.0</td>\n",
       "      <td>21</td>\n",
       "    </tr>\n",
       "    <tr>\n",
       "      <th>4</th>\n",
       "      <td>2003/3/1</td>\n",
       "      <td>2003</td>\n",
       "      <td>3</td>\n",
       "      <td>1</td>\n",
       "      <td>7</td>\n",
       "      <td>5</td>\n",
       "      <td>12160.0</td>\n",
       "      <td>22</td>\n",
       "    </tr>\n",
       "  </tbody>\n",
       "</table>\n",
       "</div>"
      ],
      "text/plain": [
       "       date  year  month  day  weekday  hour   demand  temperature\n",
       "0  2003/3/1  2003      3    1        7     1  12863.0           23\n",
       "1  2003/3/1  2003      3    1        7     2  12389.0           22\n",
       "2  2003/3/1  2003      3    1        7     3  12155.0           21\n",
       "3  2003/3/1  2003      3    1        7     4  12072.0           21\n",
       "4  2003/3/1  2003      3    1        7     5  12160.0           22"
      ]
     },
     "execution_count": 3,
     "metadata": {},
     "output_type": "execute_result"
    }
   ],
   "source": [
    "data = pd.read_csv('./training_data.csv')\n",
    "data.head()"
   ]
  },
  {
   "cell_type": "code",
   "execution_count": 4,
   "id": "7077fada",
   "metadata": {},
   "outputs": [],
   "source": [
    "X = data.drop(['demand','date'], axis=1)\n",
    "y = data['demand']"
   ]
  },
  {
   "cell_type": "code",
   "execution_count": 5,
   "id": "40ce0697",
   "metadata": {},
   "outputs": [
    {
     "data": {
      "text/plain": [
       "((20755, 6), (83021, 6), (20755,), (83021,))"
      ]
     },
     "execution_count": 5,
     "metadata": {},
     "output_type": "execute_result"
    }
   ],
   "source": [
    "np.random.seed = 42\n",
    "X_train, X_test, y_train, y_test = train_test_split(X, y, test_size=0.8)\n",
    "X_train.shape, X_test.shape, y_train.shape, y_test.shape"
   ]
  },
  {
   "cell_type": "code",
   "execution_count": 6,
   "id": "35e60717",
   "metadata": {},
   "outputs": [
    {
     "data": {
      "text/plain": [
       "RandomForestRegressor()"
      ]
     },
     "execution_count": 6,
     "metadata": {},
     "output_type": "execute_result"
    }
   ],
   "source": [
    "model = RandomForestRegressor()\n",
    "model.fit(X_train,y_train)"
   ]
  },
  {
   "cell_type": "code",
   "execution_count": 7,
   "id": "a2621c0c",
   "metadata": {},
   "outputs": [
    {
     "data": {
      "text/plain": [
       "0.9580371913911857"
      ]
     },
     "execution_count": 7,
     "metadata": {},
     "output_type": "execute_result"
    }
   ],
   "source": [
    "model.score(X_test, y_test)"
   ]
  },
  {
   "cell_type": "code",
   "execution_count": 8,
   "id": "cdb3d515",
   "metadata": {},
   "outputs": [],
   "source": [
    "y_preds = model.predict(X_test)"
   ]
  },
  {
   "cell_type": "code",
   "execution_count": 9,
   "id": "087d6db9",
   "metadata": {},
   "outputs": [
    {
     "data": {
      "text/plain": [
       "394.91357367413065"
      ]
     },
     "execution_count": 9,
     "metadata": {},
     "output_type": "execute_result"
    }
   ],
   "source": [
    "mean_absolute_error(y_test, y_preds)"
   ]
  },
  {
   "cell_type": "code",
   "execution_count": 10,
   "id": "25b45a4d",
   "metadata": {},
   "outputs": [
    {
     "data": {
      "text/plain": [
       "352194.52096848516"
      ]
     },
     "execution_count": 10,
     "metadata": {},
     "output_type": "execute_result"
    }
   ],
   "source": [
    "mean_squared_error(y_test, y_preds)"
   ]
  },
  {
   "cell_type": "code",
   "execution_count": 11,
   "id": "65090804",
   "metadata": {},
   "outputs": [],
   "source": [
    "result = np.array([y_test, y_preds])"
   ]
  },
  {
   "cell_type": "code",
   "execution_count": 12,
   "id": "e8aa8969",
   "metadata": {},
   "outputs": [
    {
     "data": {
      "text/plain": [
       "array([[14348.  , 12138.  , 15610.  , ..., 21100.  , 15891.  , 19014.  ],\n",
       "       [14597.84, 12766.44, 15584.47, ..., 20251.99, 15861.1 , 20187.33]])"
      ]
     },
     "execution_count": 12,
     "metadata": {},
     "output_type": "execute_result"
    }
   ],
   "source": [
    "result"
   ]
  },
  {
   "cell_type": "code",
   "execution_count": 13,
   "id": "dbb48918",
   "metadata": {},
   "outputs": [],
   "source": [
    "result = pd.DataFrame(result)"
   ]
  },
  {
   "cell_type": "code",
   "execution_count": 14,
   "id": "aa71b8b2",
   "metadata": {},
   "outputs": [],
   "source": [
    "result = result.T"
   ]
  },
  {
   "cell_type": "code",
   "execution_count": 15,
   "id": "b1046111",
   "metadata": {},
   "outputs": [],
   "source": [
    "result.columns = ['Actual Value', 'Predicted Value']"
   ]
  },
  {
   "cell_type": "code",
   "execution_count": 16,
   "id": "9ac438a7",
   "metadata": {},
   "outputs": [
    {
     "data": {
      "text/html": [
       "<div>\n",
       "<style scoped>\n",
       "    .dataframe tbody tr th:only-of-type {\n",
       "        vertical-align: middle;\n",
       "    }\n",
       "\n",
       "    .dataframe tbody tr th {\n",
       "        vertical-align: top;\n",
       "    }\n",
       "\n",
       "    .dataframe thead th {\n",
       "        text-align: right;\n",
       "    }\n",
       "</style>\n",
       "<table border=\"1\" class=\"dataframe\">\n",
       "  <thead>\n",
       "    <tr style=\"text-align: right;\">\n",
       "      <th></th>\n",
       "      <th>Actual Value</th>\n",
       "      <th>Predicted Value</th>\n",
       "    </tr>\n",
       "  </thead>\n",
       "  <tbody>\n",
       "    <tr>\n",
       "      <th>0</th>\n",
       "      <td>14348.0</td>\n",
       "      <td>14597.84</td>\n",
       "    </tr>\n",
       "    <tr>\n",
       "      <th>1</th>\n",
       "      <td>12138.0</td>\n",
       "      <td>12766.44</td>\n",
       "    </tr>\n",
       "    <tr>\n",
       "      <th>2</th>\n",
       "      <td>15610.0</td>\n",
       "      <td>15584.47</td>\n",
       "    </tr>\n",
       "    <tr>\n",
       "      <th>3</th>\n",
       "      <td>16541.0</td>\n",
       "      <td>16270.73</td>\n",
       "    </tr>\n",
       "    <tr>\n",
       "      <th>4</th>\n",
       "      <td>22138.0</td>\n",
       "      <td>20964.13</td>\n",
       "    </tr>\n",
       "  </tbody>\n",
       "</table>\n",
       "</div>"
      ],
      "text/plain": [
       "   Actual Value  Predicted Value\n",
       "0       14348.0         14597.84\n",
       "1       12138.0         12766.44\n",
       "2       15610.0         15584.47\n",
       "3       16541.0         16270.73\n",
       "4       22138.0         20964.13"
      ]
     },
     "execution_count": 16,
     "metadata": {},
     "output_type": "execute_result"
    }
   ],
   "source": [
    "result.head()"
   ]
  },
  {
   "cell_type": "code",
   "execution_count": 17,
   "id": "fd1bcc6c",
   "metadata": {},
   "outputs": [
    {
     "data": {
      "text/html": [
       "<div>\n",
       "<style scoped>\n",
       "    .dataframe tbody tr th:only-of-type {\n",
       "        vertical-align: middle;\n",
       "    }\n",
       "\n",
       "    .dataframe tbody tr th {\n",
       "        vertical-align: top;\n",
       "    }\n",
       "\n",
       "    .dataframe thead th {\n",
       "        text-align: right;\n",
       "    }\n",
       "</style>\n",
       "<table border=\"1\" class=\"dataframe\">\n",
       "  <thead>\n",
       "    <tr style=\"text-align: right;\">\n",
       "      <th></th>\n",
       "      <th>date</th>\n",
       "      <th>year</th>\n",
       "      <th>month</th>\n",
       "      <th>day</th>\n",
       "      <th>weekday</th>\n",
       "      <th>hour</th>\n",
       "      <th>demand</th>\n",
       "      <th>temperature</th>\n",
       "    </tr>\n",
       "  </thead>\n",
       "  <tbody>\n",
       "    <tr>\n",
       "      <th>0</th>\n",
       "      <td>2003/3/1</td>\n",
       "      <td>2003</td>\n",
       "      <td>3</td>\n",
       "      <td>1</td>\n",
       "      <td>7</td>\n",
       "      <td>1</td>\n",
       "      <td>12863</td>\n",
       "      <td>23</td>\n",
       "    </tr>\n",
       "    <tr>\n",
       "      <th>1</th>\n",
       "      <td>2003/3/1</td>\n",
       "      <td>2003</td>\n",
       "      <td>3</td>\n",
       "      <td>1</td>\n",
       "      <td>7</td>\n",
       "      <td>2</td>\n",
       "      <td>12389</td>\n",
       "      <td>22</td>\n",
       "    </tr>\n",
       "    <tr>\n",
       "      <th>2</th>\n",
       "      <td>2003/3/1</td>\n",
       "      <td>2003</td>\n",
       "      <td>3</td>\n",
       "      <td>1</td>\n",
       "      <td>7</td>\n",
       "      <td>3</td>\n",
       "      <td>12155</td>\n",
       "      <td>21</td>\n",
       "    </tr>\n",
       "    <tr>\n",
       "      <th>3</th>\n",
       "      <td>2003/3/1</td>\n",
       "      <td>2003</td>\n",
       "      <td>3</td>\n",
       "      <td>1</td>\n",
       "      <td>7</td>\n",
       "      <td>4</td>\n",
       "      <td>12072</td>\n",
       "      <td>21</td>\n",
       "    </tr>\n",
       "    <tr>\n",
       "      <th>4</th>\n",
       "      <td>2003/3/1</td>\n",
       "      <td>2003</td>\n",
       "      <td>3</td>\n",
       "      <td>1</td>\n",
       "      <td>7</td>\n",
       "      <td>5</td>\n",
       "      <td>12160</td>\n",
       "      <td>22</td>\n",
       "    </tr>\n",
       "  </tbody>\n",
       "</table>\n",
       "</div>"
      ],
      "text/plain": [
       "       date  year  month  day  weekday  hour  demand  temperature\n",
       "0  2003/3/1  2003      3    1        7     1   12863           23\n",
       "1  2003/3/1  2003      3    1        7     2   12389           22\n",
       "2  2003/3/1  2003      3    1        7     3   12155           21\n",
       "3  2003/3/1  2003      3    1        7     4   12072           21\n",
       "4  2003/3/1  2003      3    1        7     5   12160           22"
      ]
     },
     "execution_count": 17,
     "metadata": {},
     "output_type": "execute_result"
    }
   ],
   "source": [
    "sample = pd.read_csv('./test_data.csv')\n",
    "sample.head()"
   ]
  },
  {
   "cell_type": "code",
   "execution_count": 18,
   "id": "76d48de7",
   "metadata": {},
   "outputs": [],
   "source": [
    "y_test = sample['demand']\n",
    "X_test = sample.drop(['date','demand'], axis=1)"
   ]
  },
  {
   "cell_type": "code",
   "execution_count": 19,
   "id": "dea0d302",
   "metadata": {},
   "outputs": [],
   "source": [
    "y_preds = model.predict(X_test)"
   ]
  },
  {
   "cell_type": "code",
   "execution_count": 20,
   "id": "90a95e92",
   "metadata": {},
   "outputs": [
    {
     "data": {
      "text/plain": [
       "array([12865.72, 12722.6 , 12572.29, 12531.17, 12464.14, 12699.85,\n",
       "       13300.54, 14204.23, 15452.41, 15819.15, 15741.5 , 15466.94,\n",
       "       14937.89, 14431.25, 14401.7 , 14337.93, 14952.57, 15055.32,\n",
       "       15660.5 , 15626.2 , 15777.18, 15032.56, 13929.47, 12792.14,\n",
       "       12247.42, 13014.35, 11255.95, 11241.25, 11247.94, 10900.04,\n",
       "       11506.77, 12245.23, 13291.8 , 13516.49, 15006.52, 15017.78,\n",
       "       14746.89, 14486.3 , 14442.2 , 14727.73, 14801.8 , 15224.07,\n",
       "       15359.61, 15785.16, 15578.83, 14162.12, 13365.08, 12100.07,\n",
       "       11563.56, 11445.81, 11391.51, 11486.67, 11909.61, 13696.86,\n",
       "       16142.87, 18001.84, 18401.08, 18529.11, 18647.9 , 18648.44,\n",
       "       18169.9 , 18079.69, 17741.7 , 17718.3 , 19465.13, 19866.99,\n",
       "       20056.2 , 19736.14, 18972.3 , 18252.7 , 16706.98, 15738.36,\n",
       "       14506.53, 14465.98, 14387.62, 14356.69, 14410.53, 15178.13,\n",
       "       17395.99, 18520.65, 18702.12, 18228.46, 17820.62, 17683.21,\n",
       "       17577.7 , 17248.73, 16961.5 , 16754.51, 17109.74, 17675.36,\n",
       "       18100.53, 18021.01, 17636.97, 16330.04, 15009.03, 13157.52,\n",
       "       12097.76, 11760.4 , 11474.36, 11521.98, 11944.07, 12798.11,\n",
       "       14482.96, 16196.49, 16656.22, 16492.12, 16479.04, 16454.85,\n",
       "       16600.04, 16280.68, 16199.86, 16265.61, 16497.97, 16733.14,\n",
       "       17155.07, 17329.48, 16875.95, 15526.15, 13750.19, 12274.03,\n",
       "       11773.01, 11136.17, 11043.  , 11186.64, 11897.59, 12967.15,\n",
       "       15017.47, 16513.04, 16736.5 , 17059.41, 17393.56, 17380.58,\n",
       "       17627.1 , 17729.63, 17699.9 , 17765.35, 18164.83, 18740.68,\n",
       "       19452.64, 19321.18, 18445.03, 17719.72, 16137.08, 14896.38,\n",
       "       14370.21, 13350.58, 13389.8 , 13406.73, 13583.92, 15263.03,\n",
       "       17598.44, 18678.77, 19069.97, 17978.73, 17696.92, 17538.5 ,\n",
       "       17592.65, 17399.95, 17234.2 , 17234.93, 17175.74, 17857.15,\n",
       "       17968.59, 17927.14, 17445.72, 16972.61, 15326.28, 13682.83])"
      ]
     },
     "execution_count": 20,
     "metadata": {},
     "output_type": "execute_result"
    }
   ],
   "source": [
    "y_preds"
   ]
  },
  {
   "cell_type": "code",
   "execution_count": 21,
   "id": "8cf84742",
   "metadata": {},
   "outputs": [],
   "source": [
    "result = pd.DataFrame(np.array([X_test['year'],y_test, y_preds]))\n",
    "result = result.T"
   ]
  },
  {
   "cell_type": "code",
   "execution_count": 22,
   "id": "8efd6d93",
   "metadata": {},
   "outputs": [
    {
     "data": {
      "text/html": [
       "<div>\n",
       "<style scoped>\n",
       "    .dataframe tbody tr th:only-of-type {\n",
       "        vertical-align: middle;\n",
       "    }\n",
       "\n",
       "    .dataframe tbody tr th {\n",
       "        vertical-align: top;\n",
       "    }\n",
       "\n",
       "    .dataframe thead th {\n",
       "        text-align: right;\n",
       "    }\n",
       "</style>\n",
       "<table border=\"1\" class=\"dataframe\">\n",
       "  <thead>\n",
       "    <tr style=\"text-align: right;\">\n",
       "      <th></th>\n",
       "      <th>0</th>\n",
       "      <th>1</th>\n",
       "      <th>2</th>\n",
       "    </tr>\n",
       "  </thead>\n",
       "  <tbody>\n",
       "    <tr>\n",
       "      <th>0</th>\n",
       "      <td>2003.0</td>\n",
       "      <td>12863.0</td>\n",
       "      <td>12865.72</td>\n",
       "    </tr>\n",
       "    <tr>\n",
       "      <th>1</th>\n",
       "      <td>2003.0</td>\n",
       "      <td>12389.0</td>\n",
       "      <td>12722.60</td>\n",
       "    </tr>\n",
       "    <tr>\n",
       "      <th>2</th>\n",
       "      <td>2003.0</td>\n",
       "      <td>12155.0</td>\n",
       "      <td>12572.29</td>\n",
       "    </tr>\n",
       "    <tr>\n",
       "      <th>3</th>\n",
       "      <td>2003.0</td>\n",
       "      <td>12072.0</td>\n",
       "      <td>12531.17</td>\n",
       "    </tr>\n",
       "    <tr>\n",
       "      <th>4</th>\n",
       "      <td>2003.0</td>\n",
       "      <td>12160.0</td>\n",
       "      <td>12464.14</td>\n",
       "    </tr>\n",
       "    <tr>\n",
       "      <th>...</th>\n",
       "      <td>...</td>\n",
       "      <td>...</td>\n",
       "      <td>...</td>\n",
       "    </tr>\n",
       "    <tr>\n",
       "      <th>163</th>\n",
       "      <td>2003.0</td>\n",
       "      <td>17789.0</td>\n",
       "      <td>17927.14</td>\n",
       "    </tr>\n",
       "    <tr>\n",
       "      <th>164</th>\n",
       "      <td>2003.0</td>\n",
       "      <td>17137.0</td>\n",
       "      <td>17445.72</td>\n",
       "    </tr>\n",
       "    <tr>\n",
       "      <th>165</th>\n",
       "      <td>2003.0</td>\n",
       "      <td>16260.0</td>\n",
       "      <td>16972.61</td>\n",
       "    </tr>\n",
       "    <tr>\n",
       "      <th>166</th>\n",
       "      <td>2003.0</td>\n",
       "      <td>15039.0</td>\n",
       "      <td>15326.28</td>\n",
       "    </tr>\n",
       "    <tr>\n",
       "      <th>167</th>\n",
       "      <td>2003.0</td>\n",
       "      <td>13740.0</td>\n",
       "      <td>13682.83</td>\n",
       "    </tr>\n",
       "  </tbody>\n",
       "</table>\n",
       "<p>168 rows × 3 columns</p>\n",
       "</div>"
      ],
      "text/plain": [
       "          0        1         2\n",
       "0    2003.0  12863.0  12865.72\n",
       "1    2003.0  12389.0  12722.60\n",
       "2    2003.0  12155.0  12572.29\n",
       "3    2003.0  12072.0  12531.17\n",
       "4    2003.0  12160.0  12464.14\n",
       "..      ...      ...       ...\n",
       "163  2003.0  17789.0  17927.14\n",
       "164  2003.0  17137.0  17445.72\n",
       "165  2003.0  16260.0  16972.61\n",
       "166  2003.0  15039.0  15326.28\n",
       "167  2003.0  13740.0  13682.83\n",
       "\n",
       "[168 rows x 3 columns]"
      ]
     },
     "execution_count": 22,
     "metadata": {},
     "output_type": "execute_result"
    }
   ],
   "source": [
    "result"
   ]
  },
  {
   "cell_type": "code",
   "execution_count": 23,
   "id": "f6c04fa2",
   "metadata": {},
   "outputs": [],
   "source": [
    "result.to_csv('./result.csv')"
   ]
  },
  {
   "cell_type": "code",
   "execution_count": 24,
   "id": "5e8492ed",
   "metadata": {},
   "outputs": [],
   "source": [
    "pickle.dump(model, open('./stlf_model', 'wb'))"
   ]
  },
  {
   "cell_type": "code",
   "execution_count": null,
   "id": "04dbbbf3",
   "metadata": {},
   "outputs": [],
   "source": []
  }
 ],
 "metadata": {
  "kernelspec": {
   "display_name": "Python 3 (ipykernel)",
   "language": "python",
   "name": "python3"
  },
  "language_info": {
   "codemirror_mode": {
    "name": "ipython",
    "version": 3
   },
   "file_extension": ".py",
   "mimetype": "text/x-python",
   "name": "python",
   "nbconvert_exporter": "python",
   "pygments_lexer": "ipython3",
   "version": "3.9.12"
  }
 },
 "nbformat": 4,
 "nbformat_minor": 5
}
